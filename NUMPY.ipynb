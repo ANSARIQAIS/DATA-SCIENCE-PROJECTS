{
 "cells": [
  {
   "cell_type": "code",
   "execution_count": 1,
   "id": "cdc2feda-638f-43fe-9f89-749ba20f0543",
   "metadata": {},
   "outputs": [],
   "source": [
    "import numpy as np"
   ]
  },
  {
   "cell_type": "code",
   "execution_count": 89,
   "id": "cb2c8b1a-1fda-4aa7-93ca-885d3a0029d4",
   "metadata": {},
   "outputs": [
    {
     "data": {
      "text/plain": [
       "3"
      ]
     },
     "execution_count": 89,
     "metadata": {},
     "output_type": "execute_result"
    }
   ],
   "source": [
    "one=np.array([2,14,54,67,8])\n",
    "one.argmax() #gives the index of the maximum value."
   ]
  },
  {
   "cell_type": "code",
   "execution_count": 91,
   "id": "8a9e3661-7016-445f-b88c-158d27556f6f",
   "metadata": {},
   "outputs": [
    {
     "data": {
      "text/plain": [
       "0"
      ]
     },
     "execution_count": 91,
     "metadata": {},
     "output_type": "execute_result"
    }
   ],
   "source": [
    "one.argmin()"
   ]
  },
  {
   "cell_type": "code",
   "execution_count": 93,
   "id": "a1232321-f8ed-4b59-80d9-edfdb5b60fea",
   "metadata": {},
   "outputs": [
    {
     "data": {
      "text/plain": [
       "array([0, 4, 1, 2, 3], dtype=int64)"
      ]
     },
     "execution_count": 93,
     "metadata": {},
     "output_type": "execute_result"
    }
   ],
   "source": [
    "one.argsort() #sorts the specified array in ascending order on the basis of index not by element itself."
   ]
  },
  {
   "cell_type": "code",
   "execution_count": 95,
   "id": "5300f5ad-e18c-41fa-8976-9016c293d10f",
   "metadata": {},
   "outputs": [
    {
     "data": {
      "text/plain": [
       "array([3, 2, 1, 4, 0], dtype=int64)"
      ]
     },
     "execution_count": 95,
     "metadata": {},
     "output_type": "execute_result"
    }
   ],
   "source": [
    "one.argsort()[::-1] # in descending order on the basis of index."
   ]
  },
  {
   "cell_type": "code",
   "execution_count": 101,
   "id": "679e2a4d-b98b-4516-bb86-6a471b17b25c",
   "metadata": {},
   "outputs": [
    {
     "data": {
      "text/plain": [
       "array([ 2,  8, 14, 54, 67])"
      ]
     },
     "execution_count": 101,
     "metadata": {},
     "output_type": "execute_result"
    }
   ],
   "source": [
    "np.sort(one) # Sorting by element."
   ]
  },
  {
   "cell_type": "code",
   "execution_count": 103,
   "id": "6fe418a3-39bc-4fef-a922-6409db11c0f4",
   "metadata": {},
   "outputs": [
    {
     "data": {
      "text/plain": [
       "array([67, 54, 14,  8,  2])"
      ]
     },
     "execution_count": 103,
     "metadata": {},
     "output_type": "execute_result"
    }
   ],
   "source": [
    "np.sort(one)[::-1] # sorting in descending order by element itself."
   ]
  },
  {
   "cell_type": "code",
   "execution_count": 111,
   "id": "39ea045e-8867-4cd5-934c-b6e864462c67",
   "metadata": {},
   "outputs": [
    {
     "name": "stdout",
     "output_type": "stream",
     "text": [
      "(3, 3)\n"
     ]
    },
    {
     "data": {
      "text/plain": [
       "array([[11,  2,  3],\n",
       "       [45, 50,  6],\n",
       "       [ 7,  8,  9]])"
      ]
     },
     "execution_count": 111,
     "metadata": {},
     "output_type": "execute_result"
    }
   ],
   "source": [
    "x=[[11,2,3],[45,50,6],[7,8,9]]\n",
    "ar=np.array(x)\n",
    "print(np.shape(ar))\n",
    "ar"
   ]
  },
  {
   "cell_type": "code",
   "execution_count": 113,
   "id": "2a4431b2-6857-40b2-ad4c-26250f0e2df5",
   "metadata": {},
   "outputs": [],
   "source": [
    "ar=np.array([[2,3,4],\n",
    "             [7,6,5],\n",
    "             [1,8,9]]) "
   ]
  },
  {
   "cell_type": "code",
   "execution_count": 115,
   "id": "b5f569ce-11c9-48b2-92d9-cbb653e213f5",
   "metadata": {},
   "outputs": [
    {
     "data": {
      "text/plain": [
       "array([[0, 1, 2],\n",
       "       [2, 1, 0],\n",
       "       [0, 1, 2]], dtype=int64)"
      ]
     },
     "execution_count": 115,
     "metadata": {},
     "output_type": "execute_result"
    }
   ],
   "source": [
    "ar.argsort(axis=1) #sorted on the basis of ROWS.here ,it sorts the index value."
   ]
  },
  {
   "cell_type": "code",
   "execution_count": 117,
   "id": "05c75726-6f89-4010-8e02-f86f6d9dd05f",
   "metadata": {},
   "outputs": [
    {
     "data": {
      "text/plain": [
       "array([[2, 0, 0],\n",
       "       [0, 1, 1],\n",
       "       [1, 2, 2]], dtype=int64)"
      ]
     },
     "execution_count": 117,
     "metadata": {},
     "output_type": "execute_result"
    }
   ],
   "source": [
    "ar.argsort(axis=0)# on the basis of columns."
   ]
  },
  {
   "cell_type": "code",
   "execution_count": 121,
   "id": "c4856391-84c5-418b-bb3a-583f20354e35",
   "metadata": {},
   "outputs": [
    {
     "name": "stdout",
     "output_type": "stream",
     "text": [
      "(2, 3)\n",
      "(3, 3)\n"
     ]
    },
    {
     "data": {
      "text/plain": [
       "array([[2, 3, 4],\n",
       "       [7, 6, 5],\n",
       "       [1, 8, 9]])"
      ]
     },
     "execution_count": 121,
     "metadata": {},
     "output_type": "execute_result"
    }
   ],
   "source": [
    "arr1=[[1,6,7],[1,4,3]]\n",
    "print(np.shape(arr1))\n",
    "print(np.shape(ar))\n",
    "ar"
   ]
  },
  {
   "cell_type": "code",
   "execution_count": 10,
   "id": "1781e9c3-5ee8-4c9d-9896-5bbbd9b459d5",
   "metadata": {},
   "outputs": [
    {
     "data": {
      "text/plain": [
       "6"
      ]
     },
     "execution_count": 10,
     "metadata": {},
     "output_type": "execute_result"
    }
   ],
   "source": [
    "ar.argmin() #smallest value at index 6....1"
   ]
  },
  {
   "cell_type": "code",
   "execution_count": 11,
   "id": "ffa7ecc1-1d47-4996-9e41-6f677d8af834",
   "metadata": {},
   "outputs": [
    {
     "data": {
      "text/plain": [
       "8"
      ]
     },
     "execution_count": 11,
     "metadata": {},
     "output_type": "execute_result"
    }
   ],
   "source": [
    "ar.argmax() #highest value at index 8....9"
   ]
  },
  {
   "cell_type": "code",
   "execution_count": 12,
   "id": "d09094ff-85c4-4558-a33b-0a3134019d76",
   "metadata": {},
   "outputs": [
    {
     "data": {
      "text/plain": [
       "array([1, 2, 2], dtype=int64)"
      ]
     },
     "execution_count": 12,
     "metadata": {},
     "output_type": "execute_result"
    }
   ],
   "source": [
    "ar.argmax(axis=0) # axis 0 refers to vertical axis."
   ]
  },
  {
   "cell_type": "code",
   "execution_count": 13,
   "id": "81552116-28fa-4219-b631-295459ece4e1",
   "metadata": {},
   "outputs": [
    {
     "data": {
      "text/plain": [
       "array([2, 0, 2], dtype=int64)"
      ]
     },
     "execution_count": 13,
     "metadata": {},
     "output_type": "execute_result"
    }
   ],
   "source": [
    "ar.argmax(axis=1) # axis 1 refers to horizontal axis."
   ]
  },
  {
   "cell_type": "code",
   "execution_count": 14,
   "id": "9a00f2db-3af6-46b9-ba48-ac11c806dee0",
   "metadata": {},
   "outputs": [
    {
     "data": {
      "text/plain": [
       "array([[2, 3, 4],\n",
       "       [7, 6, 5],\n",
       "       [1, 8, 9]])"
      ]
     },
     "execution_count": 14,
     "metadata": {},
     "output_type": "execute_result"
    }
   ],
   "source": [
    "ar"
   ]
  },
  {
   "cell_type": "code",
   "execution_count": 15,
   "id": "1a036ba3-e9f6-40c5-af8f-16dc93bbf568",
   "metadata": {},
   "outputs": [
    {
     "data": {
      "text/plain": [
       "array([[0, 1, 2],\n",
       "       [2, 1, 0],\n",
       "       [0, 1, 2]], dtype=int64)"
      ]
     },
     "execution_count": 15,
     "metadata": {},
     "output_type": "execute_result"
    }
   ],
   "source": [
    "ar.argsort() #by default it takes axis 1(ROW) and sorts them by their indexes in ascending order."
   ]
  },
  {
   "cell_type": "code",
   "execution_count": 16,
   "id": "605b5280-1e2c-4e47-b731-b46fa0ff0c91",
   "metadata": {},
   "outputs": [
    {
     "data": {
      "text/plain": [
       "array([[2, 0, 0],\n",
       "       [0, 1, 1],\n",
       "       [1, 2, 2]], dtype=int64)"
      ]
     },
     "execution_count": 16,
     "metadata": {},
     "output_type": "execute_result"
    }
   ],
   "source": [
    "ar.argsort(axis=0)"
   ]
  },
  {
   "cell_type": "code",
   "execution_count": 17,
   "id": "862dd67c-42da-4ba8-9ddd-cd57c745bfd9",
   "metadata": {},
   "outputs": [
    {
     "data": {
      "text/plain": [
       "array([[0, 1, 2],\n",
       "       [2, 1, 0],\n",
       "       [0, 1, 2]], dtype=int64)"
      ]
     },
     "execution_count": 17,
     "metadata": {},
     "output_type": "execute_result"
    }
   ],
   "source": [
    "ar.argsort(axis=1)"
   ]
  },
  {
   "cell_type": "code",
   "execution_count": 18,
   "id": "a73d5e0a-f316-4d4d-b0d3-8209998ea869",
   "metadata": {},
   "outputs": [
    {
     "data": {
      "text/plain": [
       "array([[2, 3, 4],\n",
       "       [7, 6, 5],\n",
       "       [1, 8, 9]])"
      ]
     },
     "execution_count": 18,
     "metadata": {},
     "output_type": "execute_result"
    }
   ],
   "source": [
    "ar"
   ]
  },
  {
   "cell_type": "code",
   "execution_count": 19,
   "id": "4fba7d49-4998-4634-a0f7-ee497c2bf3c9",
   "metadata": {},
   "outputs": [
    {
     "data": {
      "text/plain": [
       "array([2, 3, 4, 7, 6, 5, 1, 8, 9])"
      ]
     },
     "execution_count": 19,
     "metadata": {},
     "output_type": "execute_result"
    }
   ],
   "source": [
    "ar.ravel() # to flatten the multi-dimensional array into a 1-D array."
   ]
  },
  {
   "cell_type": "code",
   "execution_count": 20,
   "id": "b3c18eaf-8b8c-4e22-b268-18c4a6e81ff5",
   "metadata": {},
   "outputs": [
    {
     "data": {
      "text/plain": [
       "array([[2, 3, 4, 7, 6, 5, 1, 8, 9]])"
      ]
     },
     "execution_count": 20,
     "metadata": {},
     "output_type": "execute_result"
    }
   ],
   "source": [
    "ar.reshape(1,9) # 1 row,9 col. # you can add or remove the dimensions from an array according to our needs."
   ]
  },
  {
   "cell_type": "code",
   "execution_count": 21,
   "id": "a430d1a6-27a7-418c-a177-3ec8a26c9938",
   "metadata": {},
   "outputs": [
    {
     "data": {
      "text/plain": [
       "array([[2],\n",
       "       [3],\n",
       "       [4],\n",
       "       [7],\n",
       "       [6],\n",
       "       [5],\n",
       "       [1],\n",
       "       [8],\n",
       "       [9]])"
      ]
     },
     "execution_count": 21,
     "metadata": {},
     "output_type": "execute_result"
    }
   ],
   "source": [
    "ar.reshape(9,1) #9 row, 1 col."
   ]
  },
  {
   "cell_type": "code",
   "execution_count": 22,
   "id": "758c3ab0-acf7-4434-b874-529930b83604",
   "metadata": {},
   "outputs": [
    {
     "data": {
      "text/plain": [
       "array([[1, 2, 3],\n",
       "       [1, 2, 3],\n",
       "       [1, 2, 3]])"
      ]
     },
     "execution_count": 22,
     "metadata": {},
     "output_type": "execute_result"
    }
   ],
   "source": [
    "arr1=np.array([[1,2,3],[1,2,3],[1,2,3]])\n",
    "arr1"
   ]
  },
  {
   "cell_type": "code",
   "execution_count": 23,
   "id": "1c75e261-3a15-438c-a0d3-113a9e89da40",
   "metadata": {},
   "outputs": [
    {
     "data": {
      "text/plain": [
       "array([[ 3,  5,  7],\n",
       "       [ 8,  8,  8],\n",
       "       [ 2, 10, 12]])"
      ]
     },
     "execution_count": 23,
     "metadata": {},
     "output_type": "execute_result"
    }
   ],
   "source": [
    "ar + arr1 #adds 2 arrays with same Row and Col."
   ]
  },
  {
   "cell_type": "code",
   "execution_count": 24,
   "id": "7dc6915e-7a05-4e00-a00e-d5ed9d8a26d4",
   "metadata": {},
   "outputs": [
    {
     "data": {
      "text/plain": [
       "array([[1.        , 1.41421356, 1.73205081],\n",
       "       [1.        , 1.41421356, 1.73205081],\n",
       "       [1.        , 1.41421356, 1.73205081]])"
      ]
     },
     "execution_count": 24,
     "metadata": {},
     "output_type": "execute_result"
    }
   ],
   "source": [
    "np.sqrt(arr1)"
   ]
  },
  {
   "cell_type": "code",
   "execution_count": 25,
   "id": "82f3af7b-9de9-4a6b-81c8-03d4cc5e0e0e",
   "metadata": {},
   "outputs": [
    {
     "data": {
      "text/plain": [
       "array([[1, 2, 3],\n",
       "       [1, 2, 3],\n",
       "       [1, 2, 3]])"
      ]
     },
     "execution_count": 25,
     "metadata": {},
     "output_type": "execute_result"
    }
   ],
   "source": [
    "arr1"
   ]
  },
  {
   "cell_type": "code",
   "execution_count": 26,
   "id": "022c95e5-304f-4125-b255-a66954a9a8ff",
   "metadata": {},
   "outputs": [
    {
     "data": {
      "text/plain": [
       "0"
      ]
     },
     "execution_count": 26,
     "metadata": {},
     "output_type": "execute_result"
    }
   ],
   "source": [
    "arr1.argmin() #returns the index of minimum value."
   ]
  },
  {
   "cell_type": "code",
   "execution_count": 27,
   "id": "f99b2f7a-1513-4b20-8201-199056f33382",
   "metadata": {},
   "outputs": [
    {
     "data": {
      "text/plain": [
       "1"
      ]
     },
     "execution_count": 27,
     "metadata": {},
     "output_type": "execute_result"
    }
   ],
   "source": [
    "arr1.min() #returns the smallest value itself."
   ]
  },
  {
   "cell_type": "code",
   "execution_count": 28,
   "id": "ec36b356-c415-4fb8-95c3-32677f76dcce",
   "metadata": {},
   "outputs": [
    {
     "data": {
      "text/plain": [
       "(array([0, 1, 2], dtype=int64), array([2, 2, 2], dtype=int64))"
      ]
     },
     "execution_count": 28,
     "metadata": {},
     "output_type": "execute_result"
    }
   ],
   "source": [
    "np.where(arr1>2) # Both arrays are co-related, R/C=0/2,1/2,2/2."
   ]
  },
  {
   "cell_type": "code",
   "execution_count": 29,
   "id": "d5b7c3c5-7cc8-4af6-bb8c-79a458c34b40",
   "metadata": {},
   "outputs": [
    {
     "data": {
      "text/plain": [
       "array([[1, 2, 3],\n",
       "       [1, 2, 3],\n",
       "       [1, 2, 3]])"
      ]
     },
     "execution_count": 29,
     "metadata": {},
     "output_type": "execute_result"
    }
   ],
   "source": [
    "arr1"
   ]
  },
  {
   "cell_type": "code",
   "execution_count": 30,
   "id": "80e9d102-e0c4-44b6-8cf3-400d6a670600",
   "metadata": {},
   "outputs": [
    {
     "data": {
      "text/plain": [
       "array([[1, 2, 3],\n",
       "       [4, 5, 6],\n",
       "       [7, 1, 0]])"
      ]
     },
     "execution_count": 30,
     "metadata": {},
     "output_type": "execute_result"
    }
   ],
   "source": [
    "arr2=np.array([[1,2,3],[4,5,6],[7,1,0]])\n",
    "arr2"
   ]
  },
  {
   "cell_type": "code",
   "execution_count": 31,
   "id": "256d362c-7b8c-47be-a2d5-668c6f580d7c",
   "metadata": {},
   "outputs": [
    {
     "data": {
      "text/plain": [
       "(array([1, 1, 1, 2], dtype=int64), array([0, 1, 2, 0], dtype=int64))"
      ]
     },
     "execution_count": 31,
     "metadata": {},
     "output_type": "execute_result"
    }
   ],
   "source": [
    "np.where(arr2>3) # again, R/C=1/0,1/1,1/2,2/0."
   ]
  },
  {
   "cell_type": "code",
   "execution_count": 32,
   "id": "258b6ea2-b230-4243-b3cb-9752955063a7",
   "metadata": {},
   "outputs": [
    {
     "data": {
      "text/plain": [
       "(array([0, 1, 1, 1, 2], dtype=int64), array([2, 0, 1, 2, 0], dtype=int64))"
      ]
     },
     "execution_count": 32,
     "metadata": {},
     "output_type": "execute_result"
    }
   ],
   "source": [
    "np.where(arr2>2)"
   ]
  },
  {
   "cell_type": "code",
   "execution_count": 33,
   "id": "7f05ff99-1ae5-4071-9506-d8f9e0315de4",
   "metadata": {},
   "outputs": [
    {
     "data": {
      "text/plain": [
       "tuple"
      ]
     },
     "execution_count": 33,
     "metadata": {},
     "output_type": "execute_result"
    }
   ],
   "source": [
    "type(np.where(arr2>5)) #returns the type of the object. here it is tuple."
   ]
  },
  {
   "cell_type": "code",
   "execution_count": 34,
   "id": "50498915-f5a6-4166-80f4-93e1b1557f48",
   "metadata": {},
   "outputs": [
    {
     "data": {
      "text/plain": [
       "8"
      ]
     },
     "execution_count": 34,
     "metadata": {},
     "output_type": "execute_result"
    }
   ],
   "source": [
    "np.count_nonzero(arr2)"
   ]
  },
  {
   "cell_type": "code",
   "execution_count": 35,
   "id": "c9880967-d645-4c0b-a3db-e658e87a1fa7",
   "metadata": {},
   "outputs": [],
   "source": [
    "import sys # sys is a python's standard library used to control program's exit behaviour and handle command line arguments. "
   ]
  },
  {
   "cell_type": "code",
   "execution_count": 36,
   "id": "ec05115a-40e5-416d-a94a-3098cddf4230",
   "metadata": {},
   "outputs": [],
   "source": [
    "pytar=[1,3,5,7]\n",
    "npar=np.array(pytar) # converting the pytar list into numpy array."
   ]
  },
  {
   "cell_type": "code",
   "execution_count": 37,
   "id": "518ad5e3-02bd-4a66-88bf-c1c474b9e3f2",
   "metadata": {},
   "outputs": [
    {
     "data": {
      "text/plain": [
       "112"
      ]
     },
     "execution_count": 37,
     "metadata": {},
     "output_type": "execute_result"
    }
   ],
   "source": [
    "sys.getsizeof(1)* len(pytar)"
   ]
  },
  {
   "cell_type": "code",
   "execution_count": 38,
   "id": "2bd87a99-2c64-496e-91cc-574eba283d44",
   "metadata": {},
   "outputs": [
    {
     "data": {
      "text/plain": [
       "16"
      ]
     },
     "execution_count": 38,
     "metadata": {},
     "output_type": "execute_result"
    }
   ],
   "source": [
    "npar.itemsize*npar.size"
   ]
  },
  {
   "cell_type": "markdown",
   "id": "931f78e8-d786-47c5-a361-b23581f422e0",
   "metadata": {},
   "source": [
    "# numpy arrays use contigeous memory and they are more memory efficient than that of python as they only store homogeneous data type(single dATA type)."
   ]
  },
  {
   "cell_type": "code",
   "execution_count": null,
   "id": "d190609f-739c-4575-970c-10a86ce01acb",
   "metadata": {},
   "outputs": [],
   "source": []
  }
 ],
 "metadata": {
  "kernelspec": {
   "display_name": "Python [conda env:base] *",
   "language": "python",
   "name": "conda-base-py"
  },
  "language_info": {
   "codemirror_mode": {
    "name": "ipython",
    "version": 3
   },
   "file_extension": ".py",
   "mimetype": "text/x-python",
   "name": "python",
   "nbconvert_exporter": "python",
   "pygments_lexer": "ipython3",
   "version": "3.12.7"
  }
 },
 "nbformat": 4,
 "nbformat_minor": 5
}
